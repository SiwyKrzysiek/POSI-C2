{
 "cells": [
  {
   "cell_type": "markdown",
   "metadata": {
    "ExecuteTime": {
     "end_time": "2020-05-27T20:10:36.268972Z",
     "start_time": "2020-05-27T20:10:36.266929Z"
    }
   },
   "source": [
    "# Badanie metod skalowania"
   ]
  },
  {
   "cell_type": "markdown",
   "metadata": {},
   "source": [
    "Skalowanie funkcji przystosowania pozwala uniknąć niekorzystnych zjawisk występujących w algorytmach genetycznych.\n",
    "W tym zeszycie postaram się zbadać wpływ różnych metod skalowania na wartośći funkcji ewaluacyjnej"
   ]
  },
  {
   "cell_type": "code",
   "execution_count": 30,
   "metadata": {
    "ExecuteTime": {
     "end_time": "2020-05-27T20:42:42.048392Z",
     "start_time": "2020-05-27T20:42:42.045811Z"
    }
   },
   "outputs": [],
   "source": [
    "import numpy as np\n",
    "import pandas as pd\n",
    "\n",
    "np.random.seed(27)"
   ]
  },
  {
   "cell_type": "markdown",
   "metadata": {},
   "source": [
    "## Funkcja De Jonga (paraboloida)"
   ]
  },
  {
   "cell_type": "code",
   "execution_count": 11,
   "metadata": {
    "ExecuteTime": {
     "end_time": "2020-05-27T20:35:58.660858Z",
     "start_time": "2020-05-27T20:35:58.656004Z"
    }
   },
   "outputs": [
    {
     "data": {
      "text/plain": [
       "78.64320000000001"
      ]
     },
     "execution_count": 11,
     "metadata": {},
     "output_type": "execute_result"
    }
   ],
   "source": [
    "f = lambda x, y, z: x**2 + y**2 + z**2\n",
    "domain_from = -5.12\n",
    "domain_to = 5.12\n",
    "\n",
    "f(domain_from, domain_from, domain_from)"
   ]
  },
  {
   "cell_type": "code",
   "execution_count": 9,
   "metadata": {
    "ExecuteTime": {
     "end_time": "2020-05-27T20:35:43.683557Z",
     "start_time": "2020-05-27T20:35:43.680680Z"
    }
   },
   "outputs": [],
   "source": [
    "evaluate = lambda x: 80 - f(x)"
   ]
  },
  {
   "cell_type": "code",
   "execution_count": 31,
   "metadata": {
    "ExecuteTime": {
     "end_time": "2020-05-27T20:42:44.696393Z",
     "start_time": "2020-05-27T20:42:44.691956Z"
    }
   },
   "outputs": [],
   "source": [
    "columns = ['x', 'y', 'z']\n",
    "small_sampe = pd.DataFrame(np.random.uniform(domain_from, domain_to, (20, 3)), columns=columns)\n",
    "big_sample = pd.DataFrame(np.random.uniform(domain_from, domain_to, (100, 3)), columns=columns)"
   ]
  },
  {
   "cell_type": "code",
   "execution_count": 32,
   "metadata": {
    "ExecuteTime": {
     "end_time": "2020-05-27T20:42:50.751942Z",
     "start_time": "2020-05-27T20:42:50.743601Z"
    }
   },
   "outputs": [
    {
     "data": {
      "text/html": [
       "<div>\n",
       "<style scoped>\n",
       "    .dataframe tbody tr th:only-of-type {\n",
       "        vertical-align: middle;\n",
       "    }\n",
       "\n",
       "    .dataframe tbody tr th {\n",
       "        vertical-align: top;\n",
       "    }\n",
       "\n",
       "    .dataframe thead th {\n",
       "        text-align: right;\n",
       "    }\n",
       "</style>\n",
       "<table border=\"1\" class=\"dataframe\">\n",
       "  <thead>\n",
       "    <tr style=\"text-align: right;\">\n",
       "      <th></th>\n",
       "      <th>x</th>\n",
       "      <th>y</th>\n",
       "      <th>z</th>\n",
       "    </tr>\n",
       "  </thead>\n",
       "  <tbody>\n",
       "    <tr>\n",
       "      <th>0</th>\n",
       "      <td>-0.760613</td>\n",
       "      <td>3.221338</td>\n",
       "      <td>2.410468</td>\n",
       "    </tr>\n",
       "    <tr>\n",
       "      <th>1</th>\n",
       "      <td>3.768353</td>\n",
       "      <td>-1.194181</td>\n",
       "      <td>4.909636</td>\n",
       "    </tr>\n",
       "    <tr>\n",
       "      <th>2</th>\n",
       "      <td>4.026310</td>\n",
       "      <td>-2.972517</td>\n",
       "      <td>2.476315</td>\n",
       "    </tr>\n",
       "    <tr>\n",
       "      <th>3</th>\n",
       "      <td>1.670588</td>\n",
       "      <td>3.960847</td>\n",
       "      <td>3.666050</td>\n",
       "    </tr>\n",
       "    <tr>\n",
       "      <th>4</th>\n",
       "      <td>2.552445</td>\n",
       "      <td>3.790282</td>\n",
       "      <td>-3.207620</td>\n",
       "    </tr>\n",
       "    <tr>\n",
       "      <th>5</th>\n",
       "      <td>-1.786197</td>\n",
       "      <td>-1.301121</td>\n",
       "      <td>3.007621</td>\n",
       "    </tr>\n",
       "    <tr>\n",
       "      <th>6</th>\n",
       "      <td>-3.573143</td>\n",
       "      <td>-3.379787</td>\n",
       "      <td>-4.288828</td>\n",
       "    </tr>\n",
       "    <tr>\n",
       "      <th>7</th>\n",
       "      <td>-1.995005</td>\n",
       "      <td>2.900888</td>\n",
       "      <td>-3.451841</td>\n",
       "    </tr>\n",
       "    <tr>\n",
       "      <th>8</th>\n",
       "      <td>-4.396633</td>\n",
       "      <td>2.058969</td>\n",
       "      <td>-3.266766</td>\n",
       "    </tr>\n",
       "    <tr>\n",
       "      <th>9</th>\n",
       "      <td>1.012913</td>\n",
       "      <td>-0.867700</td>\n",
       "      <td>0.138980</td>\n",
       "    </tr>\n",
       "    <tr>\n",
       "      <th>10</th>\n",
       "      <td>-2.860481</td>\n",
       "      <td>2.309868</td>\n",
       "      <td>3.578214</td>\n",
       "    </tr>\n",
       "    <tr>\n",
       "      <th>11</th>\n",
       "      <td>4.391863</td>\n",
       "      <td>2.416026</td>\n",
       "      <td>-0.239747</td>\n",
       "    </tr>\n",
       "    <tr>\n",
       "      <th>12</th>\n",
       "      <td>-0.072776</td>\n",
       "      <td>0.967888</td>\n",
       "      <td>-4.341381</td>\n",
       "    </tr>\n",
       "    <tr>\n",
       "      <th>13</th>\n",
       "      <td>-3.917036</td>\n",
       "      <td>4.776608</td>\n",
       "      <td>0.853220</td>\n",
       "    </tr>\n",
       "    <tr>\n",
       "      <th>14</th>\n",
       "      <td>-4.173600</td>\n",
       "      <td>-4.980434</td>\n",
       "      <td>3.450164</td>\n",
       "    </tr>\n",
       "    <tr>\n",
       "      <th>15</th>\n",
       "      <td>4.247428</td>\n",
       "      <td>2.094963</td>\n",
       "      <td>-1.157052</td>\n",
       "    </tr>\n",
       "    <tr>\n",
       "      <th>16</th>\n",
       "      <td>2.106306</td>\n",
       "      <td>4.334706</td>\n",
       "      <td>-2.169314</td>\n",
       "    </tr>\n",
       "    <tr>\n",
       "      <th>17</th>\n",
       "      <td>1.884363</td>\n",
       "      <td>0.207795</td>\n",
       "      <td>3.864226</td>\n",
       "    </tr>\n",
       "    <tr>\n",
       "      <th>18</th>\n",
       "      <td>4.340627</td>\n",
       "      <td>-0.110283</td>\n",
       "      <td>0.985231</td>\n",
       "    </tr>\n",
       "    <tr>\n",
       "      <th>19</th>\n",
       "      <td>-2.413820</td>\n",
       "      <td>5.035120</td>\n",
       "      <td>-2.965525</td>\n",
       "    </tr>\n",
       "  </tbody>\n",
       "</table>\n",
       "</div>"
      ],
      "text/plain": [
       "           x         y         z\n",
       "0  -0.760613  3.221338  2.410468\n",
       "1   3.768353 -1.194181  4.909636\n",
       "2   4.026310 -2.972517  2.476315\n",
       "3   1.670588  3.960847  3.666050\n",
       "4   2.552445  3.790282 -3.207620\n",
       "5  -1.786197 -1.301121  3.007621\n",
       "6  -3.573143 -3.379787 -4.288828\n",
       "7  -1.995005  2.900888 -3.451841\n",
       "8  -4.396633  2.058969 -3.266766\n",
       "9   1.012913 -0.867700  0.138980\n",
       "10 -2.860481  2.309868  3.578214\n",
       "11  4.391863  2.416026 -0.239747\n",
       "12 -0.072776  0.967888 -4.341381\n",
       "13 -3.917036  4.776608  0.853220\n",
       "14 -4.173600 -4.980434  3.450164\n",
       "15  4.247428  2.094963 -1.157052\n",
       "16  2.106306  4.334706 -2.169314\n",
       "17  1.884363  0.207795  3.864226\n",
       "18  4.340627 -0.110283  0.985231\n",
       "19 -2.413820  5.035120 -2.965525"
      ]
     },
     "execution_count": 32,
     "metadata": {},
     "output_type": "execute_result"
    }
   ],
   "source": [
    "small_sampe"
   ]
  },
  {
   "cell_type": "markdown",
   "metadata": {
    "ExecuteTime": {
     "end_time": "2020-05-27T20:25:17.348948Z",
     "start_time": "2020-05-27T20:25:17.346250Z"
    }
   },
   "source": [
    "## Siodło Rosenbrocka"
   ]
  },
  {
   "cell_type": "code",
   "execution_count": 14,
   "metadata": {
    "ExecuteTime": {
     "end_time": "2020-05-27T20:26:57.227255Z",
     "start_time": "2020-05-27T20:26:57.223470Z"
    }
   },
   "outputs": [
    {
     "data": {
      "text/plain": [
       "0"
      ]
     },
     "execution_count": 14,
     "metadata": {},
     "output_type": "execute_result"
    }
   ],
   "source": [
    "f = lambda x, y: 100 * (x**2 - y)**2 + (1 - x)**2\n",
    "domain_from = -2.048\n",
    "domain_to = 2.048\n",
    "\n",
    "f(1, 1)"
   ]
  },
  {
   "cell_type": "code",
   "execution_count": 16,
   "metadata": {
    "ExecuteTime": {
     "end_time": "2020-05-27T20:27:59.639344Z",
     "start_time": "2020-05-27T20:27:59.636799Z"
    }
   },
   "outputs": [],
   "source": [
    "evaluate = lambda x: 3910 - f(x)"
   ]
  },
  {
   "cell_type": "code",
   "execution_count": null,
   "metadata": {},
   "outputs": [],
   "source": [
    "columns = ['x', 'y']\n",
    "small_sampe = pd.DataFrame(np.random.uniform(domain_from, domain_to, (20, 2)), columns=columns)\n",
    "big_sample = pd.DataFrame(np.random.uniform(domain_from, domain_to, (100, 2)), columns=columns)"
   ]
  },
  {
   "cell_type": "code",
   "execution_count": null,
   "metadata": {},
   "outputs": [],
   "source": []
  },
  {
   "cell_type": "code",
   "execution_count": null,
   "metadata": {},
   "outputs": [],
   "source": []
  },
  {
   "cell_type": "code",
   "execution_count": null,
   "metadata": {},
   "outputs": [],
   "source": []
  }
 ],
 "metadata": {
  "kernelspec": {
   "display_name": "Python 3",
   "language": "python",
   "name": "python3"
  },
  "language_info": {
   "codemirror_mode": {
    "name": "ipython",
    "version": 3
   },
   "file_extension": ".py",
   "mimetype": "text/x-python",
   "name": "python",
   "nbconvert_exporter": "python",
   "pygments_lexer": "ipython3",
   "version": "3.7.5"
  },
  "toc": {
   "base_numbering": 1,
   "nav_menu": {},
   "number_sections": false,
   "sideBar": true,
   "skip_h1_title": false,
   "title_cell": "Table of Contents",
   "title_sidebar": "Contents",
   "toc_cell": false,
   "toc_position": {},
   "toc_section_display": true,
   "toc_window_display": false
  },
  "varInspector": {
   "cols": {
    "lenName": 16,
    "lenType": 16,
    "lenVar": 40
   },
   "kernels_config": {
    "python": {
     "delete_cmd_postfix": "",
     "delete_cmd_prefix": "del ",
     "library": "var_list.py",
     "varRefreshCmd": "print(var_dic_list())"
    },
    "r": {
     "delete_cmd_postfix": ") ",
     "delete_cmd_prefix": "rm(",
     "library": "var_list.r",
     "varRefreshCmd": "cat(var_dic_list()) "
    }
   },
   "types_to_exclude": [
    "module",
    "function",
    "builtin_function_or_method",
    "instance",
    "_Feature"
   ],
   "window_display": false
  }
 },
 "nbformat": 4,
 "nbformat_minor": 2
}
