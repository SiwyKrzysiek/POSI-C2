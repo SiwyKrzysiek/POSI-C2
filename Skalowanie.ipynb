{
 "cells": [
  {
   "cell_type": "markdown",
   "metadata": {
    "ExecuteTime": {
     "end_time": "2020-05-27T20:10:36.268972Z",
     "start_time": "2020-05-27T20:10:36.266929Z"
    }
   },
   "source": [
    "# Badanie metod skalowania"
   ]
  },
  {
   "cell_type": "markdown",
   "metadata": {},
   "source": [
    "Skalowanie funkcji przystosowania pozwala uniknąć niekorzystnych zjawisk występujących w algorytmach genetycznych.\n",
    "W tym zeszycie postaram się zbadać wpływ różnych metod skalowania na wartośći funkcji ewaluacyjnej"
   ]
  },
  {
   "cell_type": "code",
   "execution_count": 2,
   "metadata": {
    "ExecuteTime": {
     "end_time": "2020-05-28T13:10:51.973381Z",
     "start_time": "2020-05-28T13:10:51.329886Z"
    }
   },
   "outputs": [],
   "source": [
    "import numpy as np\n",
    "import pandas as pd\n",
    "from typing import Tuple, List"
   ]
  },
  {
   "cell_type": "markdown",
   "metadata": {},
   "source": [
    "## Skalowania\n",
    "\n",
    "Implementacja wykorzystywanych metod skalowania"
   ]
  },
  {
   "cell_type": "markdown",
   "metadata": {
    "ExecuteTime": {
     "end_time": "2020-05-27T21:37:20.574771Z",
     "start_time": "2020-05-27T21:37:20.572568Z"
    }
   },
   "source": [
    "### Skalowanie liniowe"
   ]
  },
  {
   "cell_type": "code",
   "execution_count": 13,
   "metadata": {
    "ExecuteTime": {
     "end_time": "2020-05-28T13:17:11.895722Z",
     "start_time": "2020-05-28T13:17:11.889734Z"
    }
   },
   "outputs": [],
   "source": [
    "def calculate_linear_scaling_parameters(data: pd.Series, mulitiplication_parameter: float) -> Tuple[float, float]:\n",
    "    eps = 0.00000000000001\n",
    "    smallest_evaluation = data.min()\n",
    "    biggest_evaluation = data.max()\n",
    "    mean = data.mean()\n",
    "    \n",
    "    is_standard = smallest_evaluation > (mulitiplication_parameter * mean - biggest_evaluation) / (mulitiplication_parameter - 1.0)\n",
    "    if is_standard:\n",
    "        divisor = biggest_evaluation - mean + eps\n",
    "        a = ((mulitiplication_parameter - 1.0) * mean) / divisor\n",
    "        b = mean * (biggest_evaluation - mulitiplication_parameter * mean) / divisor\n",
    "        return a, b\n",
    "    else:\n",
    "        divisor = mean - smallest_evaluation + eps\n",
    "        a = mean / divisor\n",
    "        b = -smallest_evaluation * mean / divisor\n",
    "        return a, b"
   ]
  },
  {
   "cell_type": "code",
   "execution_count": 14,
   "metadata": {
    "ExecuteTime": {
     "end_time": "2020-05-28T13:17:25.762099Z",
     "start_time": "2020-05-28T13:17:25.758817Z"
    }
   },
   "outputs": [],
   "source": [
    "def linear_scaling(data: pd.Series, mulitiplication_parameter: float) -> pd.Series:\n",
    "    a, b = calculate_linear_scaling_parameters(data, mulitiplication_parameter)\n",
    "    return data.apply(lambda x: a*x + b)"
   ]
  },
  {
   "cell_type": "code",
   "execution_count": 16,
   "metadata": {
    "ExecuteTime": {
     "end_time": "2020-05-28T13:17:37.673190Z",
     "start_time": "2020-05-28T13:17:37.667459Z"
    }
   },
   "outputs": [
    {
     "data": {
      "text/plain": [
       "0    17.305279\n",
       "1    26.325000\n",
       "2    12.061255\n",
       "3    13.599502\n",
       "4    20.102092\n",
       "5    15.906873\n",
       "Name: eval, dtype: float64"
      ]
     },
     "execution_count": 16,
     "metadata": {},
     "output_type": "execute_result"
    }
   ],
   "source": [
    "test_data = pd.DataFrame({'eval': [17.2, 30.1, 9.7, 11.9, 21.2, 15.2]})\n",
    "linear_scaling(test_data['eval'], 1.5)"
   ]
  },
  {
   "cell_type": "markdown",
   "metadata": {},
   "source": [
    "### Skalowanie  σ-odcięcia"
   ]
  },
  {
   "cell_type": "code",
   "execution_count": 19,
   "metadata": {
    "ExecuteTime": {
     "end_time": "2020-05-28T13:18:40.903797Z",
     "start_time": "2020-05-28T13:18:40.899987Z"
    }
   },
   "outputs": [],
   "source": [
    "def sigma_cut_scaling(data: pd.Series, c_parameter: int = 1) -> pd.Series:\n",
    "    tmp = data - (data.mean() - c_parameter * data.std())\n",
    "    return tmp.apply(lambda x: x if x >= 0 else 0)"
   ]
  },
  {
   "cell_type": "code",
   "execution_count": 20,
   "metadata": {
    "ExecuteTime": {
     "end_time": "2020-05-28T13:18:41.474241Z",
     "start_time": "2020-05-28T13:18:41.467780Z"
    }
   },
   "outputs": [
    {
     "data": {
      "text/plain": [
       "0     6.998673\n",
       "1    19.898673\n",
       "2     0.000000\n",
       "3     1.698673\n",
       "4    10.998673\n",
       "5     4.998673\n",
       "Name: eval, dtype: float64"
      ]
     },
     "execution_count": 20,
     "metadata": {},
     "output_type": "execute_result"
    }
   ],
   "source": [
    "test_data = pd.DataFrame({'eval': [17.2, 30.1, 9.7, 11.9, 21.2, 15.2]})\n",
    "sigma_cut_scaling(test_data['eval'])"
   ]
  },
  {
   "cell_type": "markdown",
   "metadata": {},
   "source": [
    "### Skalowanie logarytmiczne"
   ]
  },
  {
   "cell_type": "code",
   "execution_count": 41,
   "metadata": {
    "ExecuteTime": {
     "end_time": "2020-05-28T13:27:14.406941Z",
     "start_time": "2020-05-28T13:27:14.403806Z"
    }
   },
   "outputs": [],
   "source": [
    "def logarithmic_scaling(data: pd.Series, b: float = 1) -> pd.Series:\n",
    "    min_b = np.log10(data).max()\n",
    "    assert(b >= min_b)\n",
    "    return b - np.log10(data)"
   ]
  },
  {
   "cell_type": "code",
   "execution_count": 42,
   "metadata": {
    "ExecuteTime": {
     "end_time": "2020-05-28T13:27:14.922881Z",
     "start_time": "2020-05-28T13:27:14.916758Z"
    }
   },
   "outputs": [
    {
     "data": {
      "text/plain": [
       "0    0.264472\n",
       "1    0.021434\n",
       "2    0.513228\n",
       "3    0.424453\n",
       "4    0.173664\n",
       "5    0.318156\n",
       "Name: eval, dtype: float64"
      ]
     },
     "execution_count": 42,
     "metadata": {},
     "output_type": "execute_result"
    }
   ],
   "source": [
    "test_data = pd.DataFrame({'eval': [17.2, 30.1, 9.7, 11.9, 21.2, 15.2]})\n",
    "logarithmic_scaling(test_data['eval'], 1.5)"
   ]
  },
  {
   "cell_type": "markdown",
   "metadata": {},
   "source": [
    "## Funkcja De Jonga (paraboloida)"
   ]
  },
  {
   "cell_type": "code",
   "execution_count": 69,
   "metadata": {
    "ExecuteTime": {
     "end_time": "2020-05-27T20:55:17.524833Z",
     "start_time": "2020-05-27T20:55:17.521165Z"
    }
   },
   "outputs": [],
   "source": [
    "f = lambda x, y, z: x**2 + y**2 + z**2\n",
    "domain_from = -5.12\n",
    "domain_to = 5.12\n",
    "\n",
    "evaluate = lambda x: 80 - x"
   ]
  },
  {
   "cell_type": "code",
   "execution_count": 60,
   "metadata": {
    "ExecuteTime": {
     "end_time": "2020-05-27T20:51:47.036272Z",
     "start_time": "2020-05-27T20:51:47.031911Z"
    }
   },
   "outputs": [],
   "source": [
    "columns = ['x', 'y', 'z']\n",
    "small_sample = pd.DataFrame(np.random.uniform(domain_from, domain_to, (20, 3)), columns=columns)\n",
    "big_sample = pd.DataFrame(np.random.uniform(domain_from, domain_to, (100, 3)), columns=columns)"
   ]
  },
  {
   "cell_type": "code",
   "execution_count": 61,
   "metadata": {
    "ExecuteTime": {
     "end_time": "2020-05-27T20:51:47.948713Z",
     "start_time": "2020-05-27T20:51:47.944042Z"
    }
   },
   "outputs": [
    {
     "data": {
      "text/plain": [
       "Index(['x', 'y', 'z', 'f(x, y, z)'], dtype='object')"
      ]
     },
     "execution_count": 61,
     "metadata": {},
     "output_type": "execute_result"
    }
   ],
   "source": [
    "small_sampe.columns"
   ]
  },
  {
   "cell_type": "code",
   "execution_count": 73,
   "metadata": {
    "ExecuteTime": {
     "end_time": "2020-05-27T20:58:38.600329Z",
     "start_time": "2020-05-27T20:58:38.593371Z"
    }
   },
   "outputs": [],
   "source": [
    "np.random.seed(27)\n",
    "small_sample['f(x, y, z)'] = small_sample.apply(lambda r: f(r.x, r.y, r.z), axis=1)\n",
    "small_sample['eval'] = small_sample['f(x, y, z)'].apply(evaluate)"
   ]
  },
  {
   "cell_type": "code",
   "execution_count": 86,
   "metadata": {
    "ExecuteTime": {
     "end_time": "2020-05-27T21:11:01.827815Z",
     "start_time": "2020-05-27T21:11:01.816690Z"
    }
   },
   "outputs": [
    {
     "data": {
      "text/html": [
       "<div>\n",
       "<style scoped>\n",
       "    .dataframe tbody tr th:only-of-type {\n",
       "        vertical-align: middle;\n",
       "    }\n",
       "\n",
       "    .dataframe tbody tr th {\n",
       "        vertical-align: top;\n",
       "    }\n",
       "\n",
       "    .dataframe thead th {\n",
       "        text-align: right;\n",
       "    }\n",
       "</style>\n",
       "<table border=\"1\" class=\"dataframe\">\n",
       "  <thead>\n",
       "    <tr style=\"text-align: right;\">\n",
       "      <th></th>\n",
       "      <th>x</th>\n",
       "      <th>y</th>\n",
       "      <th>z</th>\n",
       "      <th>f(x, y, z)</th>\n",
       "      <th>eval</th>\n",
       "    </tr>\n",
       "  </thead>\n",
       "  <tbody>\n",
       "    <tr>\n",
       "      <th>0</th>\n",
       "      <td>-0.760613</td>\n",
       "      <td>3.221338</td>\n",
       "      <td>2.410468</td>\n",
       "      <td>16.765904</td>\n",
       "      <td>63.234096</td>\n",
       "    </tr>\n",
       "    <tr>\n",
       "      <th>1</th>\n",
       "      <td>3.768353</td>\n",
       "      <td>-1.194181</td>\n",
       "      <td>4.909636</td>\n",
       "      <td>39.731075</td>\n",
       "      <td>40.268925</td>\n",
       "    </tr>\n",
       "    <tr>\n",
       "      <th>2</th>\n",
       "      <td>4.026310</td>\n",
       "      <td>-2.972517</td>\n",
       "      <td>2.476315</td>\n",
       "      <td>31.179165</td>\n",
       "      <td>48.820835</td>\n",
       "    </tr>\n",
       "    <tr>\n",
       "      <th>3</th>\n",
       "      <td>1.670588</td>\n",
       "      <td>3.960847</td>\n",
       "      <td>3.666050</td>\n",
       "      <td>31.919095</td>\n",
       "      <td>48.080905</td>\n",
       "    </tr>\n",
       "    <tr>\n",
       "      <th>4</th>\n",
       "      <td>2.552445</td>\n",
       "      <td>3.790282</td>\n",
       "      <td>-3.207620</td>\n",
       "      <td>31.170040</td>\n",
       "      <td>48.829960</td>\n",
       "    </tr>\n",
       "    <tr>\n",
       "      <th>5</th>\n",
       "      <td>-1.786197</td>\n",
       "      <td>-1.301121</td>\n",
       "      <td>3.007621</td>\n",
       "      <td>13.929200</td>\n",
       "      <td>66.070800</td>\n",
       "    </tr>\n",
       "    <tr>\n",
       "      <th>6</th>\n",
       "      <td>-3.573143</td>\n",
       "      <td>-3.379787</td>\n",
       "      <td>-4.288828</td>\n",
       "      <td>42.584358</td>\n",
       "      <td>37.415642</td>\n",
       "    </tr>\n",
       "    <tr>\n",
       "      <th>7</th>\n",
       "      <td>-1.995005</td>\n",
       "      <td>2.900888</td>\n",
       "      <td>-3.451841</td>\n",
       "      <td>24.310396</td>\n",
       "      <td>55.689604</td>\n",
       "    </tr>\n",
       "    <tr>\n",
       "      <th>8</th>\n",
       "      <td>-4.396633</td>\n",
       "      <td>2.058969</td>\n",
       "      <td>-3.266766</td>\n",
       "      <td>34.241496</td>\n",
       "      <td>45.758504</td>\n",
       "    </tr>\n",
       "    <tr>\n",
       "      <th>9</th>\n",
       "      <td>1.012913</td>\n",
       "      <td>-0.867700</td>\n",
       "      <td>0.138980</td>\n",
       "      <td>1.798211</td>\n",
       "      <td>78.201789</td>\n",
       "    </tr>\n",
       "    <tr>\n",
       "      <th>10</th>\n",
       "      <td>-2.860481</td>\n",
       "      <td>2.309868</td>\n",
       "      <td>3.578214</td>\n",
       "      <td>26.321453</td>\n",
       "      <td>53.678547</td>\n",
       "    </tr>\n",
       "    <tr>\n",
       "      <th>11</th>\n",
       "      <td>4.391863</td>\n",
       "      <td>2.416026</td>\n",
       "      <td>-0.239747</td>\n",
       "      <td>25.183117</td>\n",
       "      <td>54.816883</td>\n",
       "    </tr>\n",
       "    <tr>\n",
       "      <th>12</th>\n",
       "      <td>-0.072776</td>\n",
       "      <td>0.967888</td>\n",
       "      <td>-4.341381</td>\n",
       "      <td>19.789696</td>\n",
       "      <td>60.210304</td>\n",
       "    </tr>\n",
       "    <tr>\n",
       "      <th>13</th>\n",
       "      <td>-3.917036</td>\n",
       "      <td>4.776608</td>\n",
       "      <td>0.853220</td>\n",
       "      <td>38.887147</td>\n",
       "      <td>41.112853</td>\n",
       "    </tr>\n",
       "    <tr>\n",
       "      <th>14</th>\n",
       "      <td>-4.173600</td>\n",
       "      <td>-4.980434</td>\n",
       "      <td>3.450164</td>\n",
       "      <td>54.127289</td>\n",
       "      <td>25.872711</td>\n",
       "    </tr>\n",
       "    <tr>\n",
       "      <th>15</th>\n",
       "      <td>4.247428</td>\n",
       "      <td>2.094963</td>\n",
       "      <td>-1.157052</td>\n",
       "      <td>23.768287</td>\n",
       "      <td>56.231713</td>\n",
       "    </tr>\n",
       "    <tr>\n",
       "      <th>16</th>\n",
       "      <td>2.106306</td>\n",
       "      <td>4.334706</td>\n",
       "      <td>-2.169314</td>\n",
       "      <td>27.932126</td>\n",
       "      <td>52.067874</td>\n",
       "    </tr>\n",
       "    <tr>\n",
       "      <th>17</th>\n",
       "      <td>1.884363</td>\n",
       "      <td>0.207795</td>\n",
       "      <td>3.864226</td>\n",
       "      <td>18.526243</td>\n",
       "      <td>61.473757</td>\n",
       "    </tr>\n",
       "    <tr>\n",
       "      <th>18</th>\n",
       "      <td>4.340627</td>\n",
       "      <td>-0.110283</td>\n",
       "      <td>0.985231</td>\n",
       "      <td>19.823881</td>\n",
       "      <td>60.176119</td>\n",
       "    </tr>\n",
       "    <tr>\n",
       "      <th>19</th>\n",
       "      <td>-2.413820</td>\n",
       "      <td>5.035120</td>\n",
       "      <td>-2.965525</td>\n",
       "      <td>39.973293</td>\n",
       "      <td>40.026707</td>\n",
       "    </tr>\n",
       "  </tbody>\n",
       "</table>\n",
       "</div>"
      ],
      "text/plain": [
       "           x         y         z  f(x, y, z)       eval\n",
       "0  -0.760613  3.221338  2.410468   16.765904  63.234096\n",
       "1   3.768353 -1.194181  4.909636   39.731075  40.268925\n",
       "2   4.026310 -2.972517  2.476315   31.179165  48.820835\n",
       "3   1.670588  3.960847  3.666050   31.919095  48.080905\n",
       "4   2.552445  3.790282 -3.207620   31.170040  48.829960\n",
       "5  -1.786197 -1.301121  3.007621   13.929200  66.070800\n",
       "6  -3.573143 -3.379787 -4.288828   42.584358  37.415642\n",
       "7  -1.995005  2.900888 -3.451841   24.310396  55.689604\n",
       "8  -4.396633  2.058969 -3.266766   34.241496  45.758504\n",
       "9   1.012913 -0.867700  0.138980    1.798211  78.201789\n",
       "10 -2.860481  2.309868  3.578214   26.321453  53.678547\n",
       "11  4.391863  2.416026 -0.239747   25.183117  54.816883\n",
       "12 -0.072776  0.967888 -4.341381   19.789696  60.210304\n",
       "13 -3.917036  4.776608  0.853220   38.887147  41.112853\n",
       "14 -4.173600 -4.980434  3.450164   54.127289  25.872711\n",
       "15  4.247428  2.094963 -1.157052   23.768287  56.231713\n",
       "16  2.106306  4.334706 -2.169314   27.932126  52.067874\n",
       "17  1.884363  0.207795  3.864226   18.526243  61.473757\n",
       "18  4.340627 -0.110283  0.985231   19.823881  60.176119\n",
       "19 -2.413820  5.035120 -2.965525   39.973293  40.026707"
      ]
     },
     "execution_count": 86,
     "metadata": {},
     "output_type": "execute_result"
    }
   ],
   "source": [
    "small_sample"
   ]
  },
  {
   "cell_type": "markdown",
   "metadata": {
    "ExecuteTime": {
     "end_time": "2020-05-27T20:25:17.348948Z",
     "start_time": "2020-05-27T20:25:17.346250Z"
    }
   },
   "source": [
    "## Siodło Rosenbrocka"
   ]
  },
  {
   "cell_type": "code",
   "execution_count": 14,
   "metadata": {
    "ExecuteTime": {
     "end_time": "2020-05-27T20:26:57.227255Z",
     "start_time": "2020-05-27T20:26:57.223470Z"
    }
   },
   "outputs": [
    {
     "data": {
      "text/plain": [
       "0"
      ]
     },
     "execution_count": 14,
     "metadata": {},
     "output_type": "execute_result"
    }
   ],
   "source": [
    "f = lambda x, y: 100 * (x**2 - y)**2 + (1 - x)**2\n",
    "domain_from = -2.048\n",
    "domain_to = 2.048\n",
    "\n",
    "f(1, 1)"
   ]
  },
  {
   "cell_type": "code",
   "execution_count": 16,
   "metadata": {
    "ExecuteTime": {
     "end_time": "2020-05-27T20:27:59.639344Z",
     "start_time": "2020-05-27T20:27:59.636799Z"
    }
   },
   "outputs": [],
   "source": [
    "evaluate = lambda x: 3910 - x"
   ]
  },
  {
   "cell_type": "code",
   "execution_count": null,
   "metadata": {},
   "outputs": [],
   "source": [
    "np.random.seed(291)\n",
    "columns = ['x', 'y']\n",
    "small_sample = pd.DataFrame(np.random.uniform(domain_from, domain_to, (20, 2)), columns=columns)\n",
    "big_sample = pd.DataFrame(np.random.uniform(domain_from, domain_to, (100, 2)), columns=columns)"
   ]
  },
  {
   "cell_type": "code",
   "execution_count": null,
   "metadata": {},
   "outputs": [],
   "source": []
  },
  {
   "cell_type": "code",
   "execution_count": null,
   "metadata": {},
   "outputs": [],
   "source": []
  },
  {
   "cell_type": "code",
   "execution_count": null,
   "metadata": {},
   "outputs": [],
   "source": []
  }
 ],
 "metadata": {
  "kernelspec": {
   "display_name": "Python 3",
   "language": "python",
   "name": "python3"
  },
  "language_info": {
   "codemirror_mode": {
    "name": "ipython",
    "version": 3
   },
   "file_extension": ".py",
   "mimetype": "text/x-python",
   "name": "python",
   "nbconvert_exporter": "python",
   "pygments_lexer": "ipython3",
   "version": "3.7.5"
  },
  "toc": {
   "base_numbering": 1,
   "nav_menu": {},
   "number_sections": false,
   "sideBar": true,
   "skip_h1_title": false,
   "title_cell": "Table of Contents",
   "title_sidebar": "Contents",
   "toc_cell": false,
   "toc_position": {},
   "toc_section_display": true,
   "toc_window_display": false
  },
  "varInspector": {
   "cols": {
    "lenName": 16,
    "lenType": 16,
    "lenVar": 40
   },
   "kernels_config": {
    "python": {
     "delete_cmd_postfix": "",
     "delete_cmd_prefix": "del ",
     "library": "var_list.py",
     "varRefreshCmd": "print(var_dic_list())"
    },
    "r": {
     "delete_cmd_postfix": ") ",
     "delete_cmd_prefix": "rm(",
     "library": "var_list.r",
     "varRefreshCmd": "cat(var_dic_list()) "
    }
   },
   "types_to_exclude": [
    "module",
    "function",
    "builtin_function_or_method",
    "instance",
    "_Feature"
   ],
   "window_display": false
  }
 },
 "nbformat": 4,
 "nbformat_minor": 2
}
